{
 "cells": [
  {
   "cell_type": "code",
   "execution_count": 4,
   "id": "98f128a3",
   "metadata": {},
   "outputs": [
    {
     "name": "stdout",
     "output_type": "stream",
     "text": [
      "Request was successful!\n",
      "{'cpu_count': 4, 'platform': 'linux', 'python_version': '3.12.1 (main, Jul 10 2025, 11:57:50) [GCC 13.3.0]', 'working_directory': '/workspaces/foo_job', 'pid': 21991, 'cpu_usage': '%CPU\\n 0.0', 'memory_usage': '%MEM\\n 0.2', 'uptime': 3251.2041335105896}\n"
     ]
    },
    {
     "name": "stderr",
     "output_type": "stream",
     "text": [
      "/home/codespace/.local/lib/python3.12/site-packages/urllib3/connectionpool.py:1097: InsecureRequestWarning: Unverified HTTPS request is being made to host 'localhost'. Adding certificate verification is strongly advised. See: https://urllib3.readthedocs.io/en/latest/advanced-usage.html#tls-warnings\n",
      "  warnings.warn(\n"
     ]
    }
   ],
   "source": [
    "import requests\n",
    "\n",
    "url = \"https://localhost:10000/info\"  # Example URL\n",
    "response = requests.get(url, verify=False)  # Disable SSL verification for testing\n",
    "if response.status_code == 200:\n",
    "\tprint(\"Request was successful!\")\n",
    "\tprint(response.json())"
   ]
  }
 ],
 "metadata": {
  "kernelspec": {
   "display_name": "Python 3",
   "language": "python",
   "name": "python3"
  },
  "language_info": {
   "codemirror_mode": {
    "name": "ipython",
    "version": 3
   },
   "file_extension": ".py",
   "mimetype": "text/x-python",
   "name": "python",
   "nbconvert_exporter": "python",
   "pygments_lexer": "ipython3",
   "version": "3.12.1"
  }
 },
 "nbformat": 4,
 "nbformat_minor": 5
}
